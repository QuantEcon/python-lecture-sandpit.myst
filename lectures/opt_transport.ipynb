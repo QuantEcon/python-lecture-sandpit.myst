{
 "cells": [
  {
   "cell_type": "markdown",
   "metadata": {},
   "source": [
    "# Optimal Transport Problem"
   ]
  },
  {
   "cell_type": "markdown",
   "metadata": {},
   "source": [
    "## Overview\n",
    "\n",
    "The **transportation**   or **optimal transport**  problem is interesting both because of its many applications and its important role in the history of economic theory.\n",
    "\n",
    "In this lecture, we describe the problem, tell how **linear programming** is a key tool for solving it,\n",
    "then provide  some examples.  \n",
    "\n",
    "We will provide other applications in followup lectures.\n",
    "\n",
    "We shall  solve our problems first by using the scipy function *linprog* and then the quantecon program *linprog_simplex*.\n",
    "\n",
    "Let's start with some imports."
   ]
  },
  {
   "cell_type": "code",
   "execution_count": 30,
   "metadata": {},
   "outputs": [],
   "source": [
    "# !pip list outdated\n",
    "# !pip install -- upgrade quantecon"
   ]
  },
  {
   "cell_type": "code",
   "execution_count": 31,
   "metadata": {},
   "outputs": [],
   "source": [
    "import numpy as np\n",
    "from scipy.optimize import linprog\n",
    "from quantecon.optimize import linprog_simplex"
   ]
  },
  {
   "cell_type": "markdown",
   "metadata": {},
   "source": [
    "## Introduction\n",
    "\n",
    "Suppose that $m$ factories produce goods that must be sent to $n$ locations.\n",
    "\n",
    "Let \n",
    "\n",
    " * $x_{ij}$ denote the quantity  shipped from factory $i$ to location  $j$\n",
    " \n",
    " * $c_{ij}$ denote the cost of shipping one unit  from factory $i$ to location $j$\n",
    " \n",
    " * $p_i$ denote the capacity of factory $i$ and $q_j$ denote the amount required at location $j$. \n",
    " \n",
    " *  $i = 1, 2, \\dots, m$ and $j = 1, 2, \\dots, n$.\n",
    "\n",
    "A planner wants to minimize  total transportation costs subject to the following constraints:\n",
    "\n",
    "\n",
    " * The amount shipped **from** each factory  must equal  its capacity.\n",
    "\n",
    " * The amount shipped **to** each location   must equal the quantity  required there.\n",
    "\n",
    "The planner's problem can be expressed  as the following constrained minimization problem:\n",
    "\n",
    "$$\n",
    "\\begin{align*}\n",
    "\\min_{x_{ij}} \\ & \\sum_{i=1}^m \\sum_{j=1}^n c_{ij} x_{ij} \\\\\n",
    "\\mbox{subject to } \\ & \\sum_{j=1}^n x_{ij} = p_i, & i = 1, 2, \\dots, m \\\\\n",
    "& \\sum_{i=1}^m x_{ij} = q_j, & j = 1, 2, \\dots, n \\\\\n",
    "& x_{ij} \\ge 0 \\\\\n",
    "\\end{align*} \\tag{1}\n",
    "$$\n",
    "\n",
    "This is an  **optimal transport problem** with\n",
    "\n",
    " * $mn$ decision variables, namely, the entries $x_{ij}$   and\n",
    " \n",
    " * $m+n$ constraints.\n",
    "\n",
    "Summing the $q_j$'s across all $j$'s and the $p_i$'s across all $i$'s indicates that  the total capacity of all the factories  equals  total requirements at all locations: \n",
    "\n",
    "$$\n",
    "\\sum_{j=1}^n q_j = \\sum_{j=1}^n \\sum_{i=1}^m x_{ij} = \\sum_{i=1}^m \\sum_{j=1}^n x_{ij} = \\sum_{i=1}^m p_i\n",
    "$$"
   ]
  },
  {
   "cell_type": "markdown",
   "metadata": {},
   "source": [
    "### Forming a  vector of decision variables\n",
    "\n",
    "A **matrix** of decision variables $x_{ij}$ appears in problem (2). \n",
    "\n",
    "The Scipy function *linprog* expects to see a **vector** of decision variables. \n",
    "\n",
    "This situation impels us to want to  rewrite our problem in terms of a **vector** of decision variables.\n",
    "\n",
    "Let \n",
    "\n",
    " * $X, C$ be $m \\times n$ matrices with entries $x_{ij}, c_{ij}$,\n",
    " \n",
    " * $p$ be $m$-dimensional vector with entries $p_i$,\n",
    " \n",
    " * $q$ be $\\color{Red}n$-dimensional vector with entries $q_j$. \n",
    "\n",
    "Where $\\mathbf{1}_n$ denotes $n$-dimensional column vector $(1, 1, \\dots, 1)'$, our  problem can now be expressed compactly as:\n",
    "\n",
    "$$\n",
    "\\begin{align*}\n",
    "\\min_{X} \\ & \\operatorname{tr} (C' X) \\\\\n",
    "\\mbox{subject to } \\ & X \\ \\mathbf{1}_n = p \\\\\n",
    "& X' \\ \\mathbf{1}_m = q \\\\\n",
    "& X \\ge 0 \\\\\n",
    "\\end{align*}\n",
    "$$\n",
    "\n",
    "\n",
    "\n",
    "We can convert the matrix $X$ into a vector by stacking all of its columns into a  column vector. \n",
    "\n",
    "Doing this is called **vectorization**, an operation that we denote  $\\operatorname{vec}(X)$. \n",
    "\n",
    "Similarly, we convert the matrix $C$ into an $mn$-dimensional vector $\\operatorname{vec}(C)$.\n",
    "\n",
    "The objective function can be expressed as the inner product between $\\operatorname{vec}(C)$ and $\\operatorname{vec}(X)$:\n",
    "\n",
    "$$\\operatorname{vec}(C)' \\cdot \\operatorname{vec}(X).$$\n",
    "\n",
    "To express the constraints in terms of $\\operatorname{vec}(X)$, we use a  **Kronecker product**   denoted by $\\otimes$ and defined as follows.\n",
    "\n",
    "Suppose $A$ is an $m \\times s$ matrix with entries $(a_{ij})$ and that  $B$ is an $n \\times t$ matrix.\n",
    "\n",
    "A **Kronecker product** of $A$ and $B$ is defined by\n",
    "\n",
    "$$\n",
    "A \\otimes B = \n",
    "\\begin{bmatrix}\n",
    "a_{11}B & a_{12}B & \\dots & a_{1s}B \\\\ \n",
    "a_{21}B & a_{22}B & \\dots & a_{2s}B \\\\ \n",
    "  &   & \\vdots &   \\\\ \n",
    "a_{m1}B & a_{m2}B & \\dots & a_{ms}B \\\\ \n",
    "\\end{bmatrix}.\n",
    "$$\n",
    "\n",
    "$A \\otimes B$ is an $mn \\times st$ matrix.\n",
    "\n",
    "It has the  property that for any $m \\times n$ matrix $X$\n",
    "\n",
    "$$\\operatorname{vec}(A'XB) = (B' \\otimes A') \\operatorname{vec}(X). \\tag{2}$$\n",
    "\n",
    "We can now express our constraints in terms of $\\operatorname{vec}(X)$.\n",
    "\n",
    "Let $A = \\mathbf{I}_m', B = \\mathbf{1}_n$.\n",
    "\n",
    "By equation (2)\n",
    "\n",
    "$$X \\ \\mathbf{1}_n = \\operatorname{vec}(X \\ \\mathbf{1}_n) = \\operatorname{vec}(\\mathbf{I}_m X \\ \\mathbf{1}_n) = (\\mathbf{1}_n' \\otimes \\mathbf{I}_m) \\operatorname{vec}(X).$$\n",
    "\n",
    "where  $\\mathbf{I}_m$ denotes the $m \\times m$ identity matrix.\n",
    "\n",
    "Constraint $X \\ \\mathbf{1}_n = p$ can now be written as:\n",
    "\n",
    "$$(\\mathbf{1}_n' \\otimes \\mathbf{I}_m) \\operatorname{vec}(X) = p.$$\n",
    "\n",
    "Similarly, the constraint $X' \\ \\mathbf{1}_m = q$ can be rewriten as:\n",
    "\n",
    "$$(\\mathbf{I}_n \\otimes \\mathbf{1}_m') \\operatorname{vec}(X) = q.$$\n",
    "\n",
    "Our problem can now be expressed in terms of an $mn$-dimensional vector of decision variables:\n",
    "\n",
    "$$\n",
    "\\begin{align*}\n",
    "\\min_{z} \\ & \\operatorname{vec}(C)' z \\\\\n",
    "\\mbox{subject to } \\ & A z = b \\\\\n",
    "& z \\ge 0 \\\\\n",
    "\\end{align*} \\tag{3}\n",
    "$$\n",
    "\n",
    "where\n",
    "\n",
    "$$\n",
    "A = \n",
    "\\begin{bmatrix}\n",
    "\\mathbf{1}_n' \\otimes \\mathbf{I}_m \\\\ \n",
    "\\mathbf{I}_n \\otimes \\mathbf{1}_m' \\\\ \n",
    "\\end{bmatrix},\n",
    "b = \\begin{bmatrix} p \\\\ q \\\\ \\end{bmatrix}\n",
    "$$\n",
    "\n",
    "where $z = \\operatorname{vec}(X)$.\n",
    "\n",
    "**Example:**\n",
    "\n",
    "We now provide an example that takes the form (3) that we'll solve by deploying the function *linprog*.\n",
    "\n",
    "The table below provides numbers for the requirements vector $q$, the capacity vector $p$, and   entries $c_{ij}$  of the cost-of-shipping matrix\n",
    "$C$.\n",
    "\n",
    "\n",
    "<table>\n",
    "    <tr>\n",
    "\t    <th> </th>\n",
    "        <th colspan=\"3\"><center>Factory</center></th>\n",
    "\t    <th rowspan=\"2\">Requirement</th>  \n",
    "\t</tr >\n",
    "    <tr>\n",
    "        <th> Location </th> <th>1</th> <th>2</th> <th>3</th>\n",
    "\t</tr>\n",
    "    <tr>\n",
    "\t    <td>1</td>  <td>10</td> <td>20</td> <td>30</td> <td>25</td>\n",
    "\t</tr>\n",
    "    <tr>\n",
    "\t    <td>2</td> <td>15</td> <td>40</td> <td>35</td> <td>115</td>\n",
    "\t</tr>\n",
    "    <tr>\n",
    "\t    <td>3</td> <td>20</td> <td>15</td> <td>40</td> <td>60</td>\n",
    "\t</tr>\n",
    "    <tr>\n",
    "\t    <td>4</td> <td>20</td> <td>30</td> <td>55</td> <td>30</td>\n",
    "\t</tr>\n",
    "    <tr>\n",
    "\t    <td>5</td> <td>40</td> <td>30</td> <td>25</td> <td>70</td>\n",
    "\t</tr>\n",
    "    <tr>\n",
    "\t    <td>Capacity</td> <td>50</td> <td>100</td> <td>150</td> <td>300</td>\n",
    "\t</tr>\n",
    "</table>\n",
    "\n",
    "The numbers in the above table tell us to construct the following objects:\n",
    "\n",
    "$$\n",
    "m = 3, n = 5, \\\\\n",
    "p = (50,100,150)', q = (25,115,60,30,70)', \\\\ \n",
    "C = \n",
    "\\begin{bmatrix}\n",
    "10 &15 &20 &20 &40 \\\\\n",
    "20 &40 &15 &30 &30 \\\\\n",
    "30 &35 &40 &55 &25 \\\\\n",
    "\\end{bmatrix}.\n",
    "$$\n",
    "\n",
    "Let's write Python code that sets up the problem and solves it."
   ]
  },
  {
   "cell_type": "code",
   "execution_count": 32,
   "metadata": {
    "scrolled": true
   },
   "outputs": [
    {
     "name": "stdout",
     "output_type": "stream",
     "text": [
      "message: Optimization terminated successfully.\n",
      "nit: 12\n",
      "fun: 7225.0\n",
      "z: [15. 10.  0. 35.  0. 80.  0. 60.  0.  0. 30.  0.  0.  0. 70.]\n",
      "X: [[15. 35.  0.  0.  0.]\n",
      " [10.  0. 60. 30.  0.]\n",
      " [ 0. 80.  0.  0. 70.]]\n"
     ]
    },
    {
     "name": "stderr",
     "output_type": "stream",
     "text": [
      "<ipython-input-32-ee1aac536182>:24: OptimizeWarning: A_eq does not appear to be of full row rank. To improve performance, check the problem formulation for redundant equality constraints.\n",
      "  res = linprog(C_vec, A_eq=A, b_eq=b, method='Revised simplex')\n"
     ]
    }
   ],
   "source": [
    "# Define parameters\n",
    "m = 3\n",
    "n = 5\n",
    "\n",
    "p = np.array([50, 100, 150])\n",
    "q = np.array([25, 115, 60, 30, 70])\n",
    "\n",
    "C = np.array([[10, 15, 20, 20, 40],\n",
    "              [20, 40, 15, 30, 30],\n",
    "              [30, 35, 40, 55, 25]])\n",
    "\n",
    "# Vectorize matrix C\n",
    "C_vec = C.reshape((m*n, 1), order='F')\n",
    "\n",
    "# Construct matrix A by Kronecker product\n",
    "A1 = np.kron(np.ones((1, n)), np.identity(m))\n",
    "A2 = np.kron(np.identity(n), np.ones((1, m)))\n",
    "A = np.vstack([A1, A2])\n",
    "\n",
    "# Construct vector b\n",
    "b = np.hstack([p, q])\n",
    "\n",
    "# Solve the primal problem\n",
    "res = linprog(C_vec, A_eq=A, b_eq=b, method='Revised simplex')\n",
    "\n",
    "# Print results\n",
    "print(\"message:\", res.message)\n",
    "print(\"nit:\", res.nit)\n",
    "print(\"fun:\", res.fun)\n",
    "print(\"z:\", res.x)\n",
    "print(\"X:\", res.x.reshape((m,n), order='F'))"
   ]
  },
  {
   "cell_type": "code",
   "execution_count": 33,
   "metadata": {},
   "outputs": [
    {
     "data": {
      "text/plain": [
       "array([[10],\n",
       "       [20],\n",
       "       [30],\n",
       "       [15],\n",
       "       [40],\n",
       "       [35],\n",
       "       [20],\n",
       "       [15],\n",
       "       [40],\n",
       "       [20],\n",
       "       [30],\n",
       "       [55],\n",
       "       [40],\n",
       "       [30],\n",
       "       [25]])"
      ]
     },
     "execution_count": 33,
     "metadata": {},
     "output_type": "execute_result"
    }
   ],
   "source": [
    "C.reshape((m*n, 1), order='F')"
   ]
  },
  {
   "cell_type": "code",
   "execution_count": 34,
   "metadata": {},
   "outputs": [
    {
     "data": {
      "text/plain": [
       "array([[10],\n",
       "       [15],\n",
       "       [20],\n",
       "       [20],\n",
       "       [40],\n",
       "       [20],\n",
       "       [40],\n",
       "       [15],\n",
       "       [30],\n",
       "       [30],\n",
       "       [30],\n",
       "       [35],\n",
       "       [40],\n",
       "       [55],\n",
       "       [25]])"
      ]
     },
     "execution_count": 34,
     "metadata": {},
     "output_type": "execute_result"
    }
   ],
   "source": [
    "C.reshape((m*n, 1), order='C')"
   ]
  },
  {
   "cell_type": "code",
   "execution_count": 35,
   "metadata": {},
   "outputs": [
    {
     "data": {
      "text/plain": [
       "array([[10],\n",
       "       [15],\n",
       "       [20],\n",
       "       [20],\n",
       "       [40],\n",
       "       [20],\n",
       "       [40],\n",
       "       [15],\n",
       "       [30],\n",
       "       [30],\n",
       "       [30],\n",
       "       [35],\n",
       "       [40],\n",
       "       [55],\n",
       "       [25]])"
      ]
     },
     "execution_count": 35,
     "metadata": {},
     "output_type": "execute_result"
    }
   ],
   "source": [
    "C.reshape((m*n, 1), order='A')"
   ]
  },
  {
   "cell_type": "markdown",
   "metadata": {},
   "source": [
    "**Interpreting the warning:**  \n",
    "\n",
    "The above warning message from scipy pointing out that A is not full rank.\n",
    "\n",
    "This indicates that the way the problem has been set up means that there is a redundant constraint.\n",
    "\n",
    "Let's explore this further by printing out $A$ and staring at it."
   ]
  },
  {
   "cell_type": "code",
   "execution_count": 36,
   "metadata": {},
   "outputs": [
    {
     "data": {
      "text/plain": [
       "array([[1., 0., 0., 1., 0., 0., 1., 0., 0., 1., 0., 0., 1., 0., 0.],\n",
       "       [0., 1., 0., 0., 1., 0., 0., 1., 0., 0., 1., 0., 0., 1., 0.],\n",
       "       [0., 0., 1., 0., 0., 1., 0., 0., 1., 0., 0., 1., 0., 0., 1.],\n",
       "       [1., 1., 1., 0., 0., 0., 0., 0., 0., 0., 0., 0., 0., 0., 0.],\n",
       "       [0., 0., 0., 1., 1., 1., 0., 0., 0., 0., 0., 0., 0., 0., 0.],\n",
       "       [0., 0., 0., 0., 0., 0., 1., 1., 1., 0., 0., 0., 0., 0., 0.],\n",
       "       [0., 0., 0., 0., 0., 0., 0., 0., 0., 1., 1., 1., 0., 0., 0.],\n",
       "       [0., 0., 0., 0., 0., 0., 0., 0., 0., 0., 0., 0., 1., 1., 1.]])"
      ]
     },
     "execution_count": 36,
     "metadata": {},
     "output_type": "execute_result"
    }
   ],
   "source": [
    "A"
   ]
  },
  {
   "cell_type": "markdown",
   "metadata": {},
   "source": [
    "The singularity of $A$ reflects that the  first three constraints and the last five constraints  both require  that \"total requirements equal total capacity\".\n",
    "\n",
    "One  equality constraint is redundant."
   ]
  },
  {
   "cell_type": "markdown",
   "metadata": {},
   "source": [
    "Below we drop one of the equality constraints, and use only  7 of them.\n",
    "\n",
    "After doing this, we attain the same minimized cost. \n",
    "\n",
    "However, we find a  different transportation plan.\n",
    "\n",
    "Though it is a different plan, it attains the same cost!"
   ]
  },
  {
   "cell_type": "code",
   "execution_count": 37,
   "metadata": {},
   "outputs": [
    {
     "data": {
      "text/plain": [
       "     con: array([0., 0., 0., 0., 0., 0., 0.])\n",
       "     fun: 7225.0\n",
       " message: 'Optimization terminated successfully.'\n",
       "     nit: 13\n",
       "   slack: array([], dtype=float64)\n",
       "  status: 0\n",
       " success: True\n",
       "       x: array([ 0., 25.,  0., 35.,  0., 80.,  0., 60.,  0., 15., 15.,  0.,  0.,\n",
       "        0., 70.])"
      ]
     },
     "execution_count": 37,
     "metadata": {},
     "output_type": "execute_result"
    }
   ],
   "source": [
    "linprog(C_vec, A_eq=A[:-1], b_eq=b[:-1], method='Revised simplex')"
   ]
  },
  {
   "cell_type": "code",
   "execution_count": 38,
   "metadata": {},
   "outputs": [
    {
     "name": "stdout",
     "output_type": "stream",
     "text": [
      "2.1 ms ± 15.4 µs per loop (mean ± std. dev. of 7 runs, 100 loops each)\n"
     ]
    }
   ],
   "source": [
    "%timeit linprog(C_vec, A_eq=A[:-1], b_eq=b[:-1], method='Revised simplex')"
   ]
  },
  {
   "cell_type": "code",
   "execution_count": 39,
   "metadata": {},
   "outputs": [
    {
     "name": "stderr",
     "output_type": "stream",
     "text": [
      "<magic-timeit>:1: OptimizeWarning: A_eq does not appear to be of full row rank. To improve performance, check the problem formulation for redundant equality constraints.\n"
     ]
    },
    {
     "name": "stdout",
     "output_type": "stream",
     "text": [
      "2.19 ms ± 3.41 µs per loop (mean ± std. dev. of 7 runs, 100 loops each)\n"
     ]
    }
   ],
   "source": [
    "%timeit linprog(C_vec, A_eq=A, b_eq=b, method='Revised simplex')"
   ]
  },
  {
   "cell_type": "markdown",
   "metadata": {},
   "source": [
    "Evidently, it is slightly quicker to work with the system that removed a redundant constraint.\n"
   ]
  },
  {
   "cell_type": "markdown",
   "metadata": {},
   "source": [
    "Let's drill down and do some more calculations to help us understand whether or not our finding **two** different optimal transport plans reflects our having dropped a redundant equality constraint.\n",
    "\n",
    "(Hint -- it will turn out that dropping a redundant equality isn't really what mattered.)"
   ]
  },
  {
   "cell_type": "markdown",
   "metadata": {},
   "source": [
    "To verify our hint, we shall simply use **all** of  the original equality constraints (including a redundant one),  but we'll just shuffle the order of the constraints."
   ]
  },
  {
   "cell_type": "code",
   "execution_count": 40,
   "metadata": {},
   "outputs": [],
   "source": [
    "arr = np.arange(m+n)"
   ]
  },
  {
   "cell_type": "code",
   "execution_count": 41,
   "metadata": {},
   "outputs": [
    {
     "name": "stderr",
     "output_type": "stream",
     "text": [
      "<ipython-input-41-4ae183291d9d>:8: OptimizeWarning: A_eq does not appear to be of full row rank. To improve performance, check the problem formulation for redundant equality constraints.\n",
      "  res_shuffle = linprog(C_vec, A_eq=A[arr], b_eq=b[arr], method='Revised simplex')\n"
     ]
    }
   ],
   "source": [
    "sol_found = []\n",
    "cost = []\n",
    "\n",
    "# simulate 1000 times\n",
    "for i in range(1000):\n",
    "\n",
    "    np.random.shuffle(arr)\n",
    "    res_shuffle = linprog(C_vec, A_eq=A[arr], b_eq=b[arr], method='Revised simplex')\n",
    "\n",
    "    # if find a new solution\n",
    "    sol = tuple(res_shuffle.x)\n",
    "    if sol not in sol_found:\n",
    "        sol_found.append(sol)\n",
    "        cost.append(res_shuffle.fun)"
   ]
  },
  {
   "cell_type": "code",
   "execution_count": 42,
   "metadata": {},
   "outputs": [
    {
     "name": "stdout",
     "output_type": "stream",
     "text": [
      "transportation plan 0:  (0.0, 25.0, 0.0, 35.0, 0.0, 80.0, 0.0, 60.0, 0.0, 15.0, 15.0, 0.0, 0.0, 0.0, 70.0)\n",
      "     minimized cost 0:  7225.0\n",
      "transportation plan 1:  (15.0, 10.0, 0.0, 35.0, 0.0, 80.0, 0.0, 60.0, 0.0, 0.0, 30.0, 0.0, 0.0, 0.0, 70.0)\n",
      "     minimized cost 1:  7225.0\n"
     ]
    }
   ],
   "source": [
    "for i in range(len(sol_found)):\n",
    "    print(f\"transportation plan {i}: \", sol_found[i])\n",
    "    print(f\"     minimized cost {i}: \", cost[i])"
   ]
  },
  {
   "cell_type": "markdown",
   "metadata": {},
   "source": [
    "**Ah hah!** As you can see, putting constraints in different orders in this case uncovers  two optimal transportation plans that achieve the same minimized cost.\n",
    "\n",
    "These are the same two plans computed early."
   ]
  },
  {
   "cell_type": "markdown",
   "metadata": {},
   "source": [
    "Next, we show that leaving out the first constraint  \"accidentally\" leads to the initial plan that we computed."
   ]
  },
  {
   "cell_type": "code",
   "execution_count": 43,
   "metadata": {},
   "outputs": [
    {
     "data": {
      "text/plain": [
       "     con: array([0., 0., 0., 0., 0., 0., 0.])\n",
       "     fun: 7225.0\n",
       " message: 'Optimization terminated successfully.'\n",
       "     nit: 12\n",
       "   slack: array([], dtype=float64)\n",
       "  status: 0\n",
       " success: True\n",
       "       x: array([15., 10.,  0., 35.,  0., 80.,  0., 60.,  0.,  0., 30.,  0.,  0.,\n",
       "        0., 70.])"
      ]
     },
     "execution_count": 43,
     "metadata": {},
     "output_type": "execute_result"
    }
   ],
   "source": [
    "linprog(C_vec, A_eq=A[1:], b_eq=b[1:], method='Revised simplex')"
   ]
  },
  {
   "cell_type": "markdown",
   "metadata": {},
   "source": [
    "Let's compare this transport plan with"
   ]
  },
  {
   "cell_type": "code",
   "execution_count": 44,
   "metadata": {},
   "outputs": [
    {
     "data": {
      "text/plain": [
       "array([15., 10.,  0., 35.,  0., 80.,  0., 60.,  0.,  0., 30.,  0.,  0.,\n",
       "        0., 70.])"
      ]
     },
     "execution_count": 44,
     "metadata": {},
     "output_type": "execute_result"
    }
   ],
   "source": [
    "res.x"
   ]
  },
  {
   "cell_type": "markdown",
   "metadata": {},
   "source": [
    "Here the matrix $X$ contains entries $x_{ij}$ that tell amounts shipped **from** factor $i = 1, 2, 3$\n",
    "**to** location $j=1,2, \\ldots, 5$.\n",
    "\n",
    "The vector $z$ evidently equals $\\operatorname{vec}(X)$.\n",
    "\n",
    "The minimized cost from the optimal transport plan is given by the $fun$ variable.\n",
    "\n"
   ]
  },
  {
   "cell_type": "markdown",
   "metadata": {},
   "source": [
    "We can also solve an optimal transportation problem using a powerful tool from `quantecon`, namely,`quantecon.optimize.linprog_simplex`. \n",
    "\n",
    "It uses the same simplex algorithm as `scipy.optimize.linprog`, but the program is accelerated by using `numba`.\n",
    "\n",
    "As you will see very soon, by using `scipy.optimize.linprog` the time required to solve an optimal transportation problem can be reduced significantly."
   ]
  },
  {
   "cell_type": "code",
   "execution_count": 45,
   "metadata": {},
   "outputs": [],
   "source": [
    "# construct matrices/vectors for linprog_simplex\n",
    "c = C.flatten()\n",
    "\n",
    "# Equality constraints\n",
    "A_eq = np.zeros((m+n, m*n))\n",
    "for i in range(m):\n",
    "    for j in range(n):\n",
    "        A_eq[i, i*n+j] = 1\n",
    "        A_eq[m+j, i*n+j] = 1\n",
    "\n",
    "b_eq = np.hstack([p, q])"
   ]
  },
  {
   "cell_type": "markdown",
   "metadata": {},
   "source": [
    "Since `quantecon.optimize.linprog_simplex` does maximization instead of minimization, we need to put a negative sign before vector `c`."
   ]
  },
  {
   "cell_type": "code",
   "execution_count": 46,
   "metadata": {},
   "outputs": [],
   "source": [
    "res_qe = linprog_simplex(-c, A_eq=A_eq, b_eq=b_eq)"
   ]
  },
  {
   "cell_type": "markdown",
   "metadata": {},
   "source": [
    "Since the two LP solvers use the same simplex algorithm, we expect to get exactly the same solutions"
   ]
  },
  {
   "cell_type": "code",
   "execution_count": 47,
   "metadata": {},
   "outputs": [
    {
     "data": {
      "text/plain": [
       "array([[15., 35.,  0.,  0.,  0.],\n",
       "       [10.,  0., 60., 30.,  0.],\n",
       "       [ 0., 80.,  0.,  0., 70.]])"
      ]
     },
     "execution_count": 47,
     "metadata": {},
     "output_type": "execute_result"
    }
   ],
   "source": [
    "res_qe.x.reshape((m, n), order='C')"
   ]
  },
  {
   "cell_type": "code",
   "execution_count": 48,
   "metadata": {},
   "outputs": [
    {
     "data": {
      "text/plain": [
       "array([[15., 35.,  0.,  0.,  0.],\n",
       "       [10.,  0., 60., 30.,  0.],\n",
       "       [ 0., 80.,  0.,  0., 70.]])"
      ]
     },
     "execution_count": 48,
     "metadata": {},
     "output_type": "execute_result"
    }
   ],
   "source": [
    "res.x.reshape((m, n), order='F')"
   ]
  },
  {
   "cell_type": "markdown",
   "metadata": {},
   "source": [
    "Let's do a speed comparison between `scipy.optimize.linprog` and `quantecon.optimize.linprog_simplex`."
   ]
  },
  {
   "cell_type": "code",
   "execution_count": 49,
   "metadata": {},
   "outputs": [
    {
     "name": "stdout",
     "output_type": "stream",
     "text": [
      "2.09 ms ± 7.75 µs per loop (mean ± std. dev. of 7 runs, 100 loops each)\n"
     ]
    }
   ],
   "source": [
    "# scipy.optimize.linprog\n",
    "%timeit res = linprog(C_vec, A_eq=A[:-1, :], b_eq=b[:-1], method='Revised simplex')"
   ]
  },
  {
   "cell_type": "code",
   "execution_count": 50,
   "metadata": {},
   "outputs": [
    {
     "name": "stdout",
     "output_type": "stream",
     "text": [
      "14.9 µs ± 91.1 ns per loop (mean ± std. dev. of 7 runs, 100000 loops each)\n"
     ]
    }
   ],
   "source": [
    "# quantecon.optimize.linprog_simplex\n",
    "%timeit out = linprog_simplex(-c, A_eq=A_eq, b_eq=b_eq)"
   ]
  },
  {
   "cell_type": "markdown",
   "metadata": {},
   "source": [
    "As you can see, the `quantecon.optimize.linprog_simplex` is almost 200 times faster."
   ]
  },
  {
   "cell_type": "markdown",
   "metadata": {},
   "source": [
    "### The Dual Problem\n",
    "\n",
    "Let $u, v$ denotes vectors of dual decision variables with entries $(u_i), (v_j)$.\n",
    "\n",
    "The **dual** to  **minimization** problem (1) is the **maximization** problem:\n",
    "\n",
    "$$\n",
    "\\begin{align*}\n",
    "\\max_{u_i, v_j} \\ & \\sum_{i=1}^m p_i u_i + \\sum_{j=1}^n q_j v_j \\\\\n",
    "\\mbox{subject to } \\ & u_i + v_j \\le c_{ij}, \\ i = 1, 2, \\dots, m;\\ j = 1, 2, \\dots, n \\\\\n",
    "\\end{align*} \\tag{4}\n",
    "$$\n",
    "\n",
    "\n",
    "\n",
    "The dual problem is also a linear programming problem.\n",
    "\n",
    "It has $m+n$ dual variables and $mn$ constraints. \n",
    "\n",
    "Vectors $u$ and $v$ of **values**  are attached to the first and the second sets of primal constraits, respectively.\n",
    "\n",
    "\n",
    "Thus,  $u$ is attached to the constraints \n",
    "\n",
    " * $(\\mathbf{1}_n' \\otimes \\mathbf{I}_m) \\operatorname{vec}(X) = p$ \n",
    " \n",
    "and  $v$ is attached to constraints \n",
    " \n",
    " * $(\\mathbf{I}_n \\otimes \\mathbf{1}_m') \\operatorname{vec}(X) = q.$\n",
    "\n",
    "Components of the vectors $u$ and $v$ of **values**  are **shadow prices** of the quantities appearing on the right sides of those constraints.\n",
    "\n",
    "\n",
    "We can write the dual problem as \n",
    "\n",
    "$$\n",
    "\\begin{align*}\n",
    "\\max_{u_i, v_j} \\ & p u + q v \\\\\n",
    "\\mbox{subject to } \\ & A' \\begin{bmatrix} u \\\\ v \\\\ \\end{bmatrix} = \\operatorname{vec}(C) \\\\\n",
    "\\end{align*} \\tag{5}\n",
    "$$\n",
    "\n",
    "\n",
    "For the same numerical example described above, let's solve the dual problem."
   ]
  },
  {
   "cell_type": "code",
   "execution_count": 51,
   "metadata": {
    "scrolled": true
   },
   "outputs": [
    {
     "name": "stdout",
     "output_type": "stream",
     "text": [
      "message: Optimization terminated successfully.\n",
      "nit: 7\n",
      "fun: -7225.0\n",
      "u: [ 5. 15. 25.]\n",
      "v: [ 5. 10.  0. 15.  0.]\n"
     ]
    }
   ],
   "source": [
    "# Solve the dual problem\n",
    "res_dual = linprog(-b, A_ub=A.T, b_ub=C_vec,\n",
    "                   bounds=[(None, None)]*(m+n), method='Revised simplex')\n",
    "\n",
    "#Print results\n",
    "print(\"message:\", res_dual.message)\n",
    "print(\"nit:\", res_dual.nit)\n",
    "print(\"fun:\", res_dual.fun)\n",
    "print(\"u:\", res_dual.x[:m])\n",
    "print(\"v:\", res_dual.x[-n:])"
   ]
  },
  {
   "cell_type": "markdown",
   "metadata": {},
   "source": [
    "We can also solve the dual problem using `quantecon.optimize.linprog_simplex`."
   ]
  },
  {
   "cell_type": "code",
   "execution_count": 52,
   "metadata": {},
   "outputs": [],
   "source": [
    "res_dual_qe = linprog_simplex(b_eq, A_ub=A_eq.T, b_ub=c)"
   ]
  },
  {
   "cell_type": "markdown",
   "metadata": {},
   "source": [
    "And the shadow prices computed by the two programs are identical."
   ]
  },
  {
   "cell_type": "code",
   "execution_count": 53,
   "metadata": {},
   "outputs": [
    {
     "data": {
      "text/plain": [
       "array([ 5., 15., 25.,  5., 10.,  0., 15.,  0.])"
      ]
     },
     "execution_count": 53,
     "metadata": {},
     "output_type": "execute_result"
    }
   ],
   "source": [
    "res_dual_qe.x"
   ]
  },
  {
   "cell_type": "code",
   "execution_count": 54,
   "metadata": {},
   "outputs": [
    {
     "data": {
      "text/plain": [
       "array([ 5., 15., 25.,  5., 10.,  0., 15.,  0.])"
      ]
     },
     "execution_count": 54,
     "metadata": {},
     "output_type": "execute_result"
    }
   ],
   "source": [
    "res_dual.x"
   ]
  },
  {
   "cell_type": "markdown",
   "metadata": {},
   "source": [
    "We can compare computational times from using our two tools."
   ]
  },
  {
   "cell_type": "code",
   "execution_count": 55,
   "metadata": {},
   "outputs": [
    {
     "name": "stdout",
     "output_type": "stream",
     "text": [
      "1.39 ms ± 3.81 µs per loop (mean ± std. dev. of 7 runs, 1000 loops each)\n"
     ]
    }
   ],
   "source": [
    "%timeit linprog(-b, A_ub=A.T, b_ub=C_vec, bounds=[(None, None)]*(m+n), method='Revised simplex')"
   ]
  },
  {
   "cell_type": "code",
   "execution_count": 56,
   "metadata": {},
   "outputs": [
    {
     "name": "stdout",
     "output_type": "stream",
     "text": [
      "110 µs ± 560 ns per loop (mean ± std. dev. of 7 runs, 10000 loops each)\n"
     ]
    }
   ],
   "source": [
    "%timeit linprog_simplex(b_eq, A_ub=A_eq.T, b_ub=c)"
   ]
  },
  {
   "cell_type": "markdown",
   "metadata": {},
   "source": [
    "`quantecon.optimize.linprog_simplex` solves the dual problem 10 times faster."
   ]
  },
  {
   "cell_type": "markdown",
   "metadata": {},
   "source": [
    "Just for completeness, let's  solve the dual problems with nonsingular $A$ matrices that we create by dropping a redundant equality constraint."
   ]
  },
  {
   "cell_type": "markdown",
   "metadata": {},
   "source": [
    "Try first leaving out the first constraint:"
   ]
  },
  {
   "cell_type": "code",
   "execution_count": 57,
   "metadata": {},
   "outputs": [
    {
     "data": {
      "text/plain": [
       "     con: array([], dtype=float64)\n",
       "     fun: -7225.0\n",
       " message: 'Optimization terminated successfully.'\n",
       "     nit: 7\n",
       "   slack: array([ 0.,  0.,  0.,  0., 15.,  0., 15.,  0., 15.,  0.,  0., 15., 35.,\n",
       "       15.,  0.])\n",
       "  status: 0\n",
       " success: True\n",
       "       x: array([10., 20., 10., 15.,  5., 20.,  5.])"
      ]
     },
     "execution_count": 57,
     "metadata": {},
     "output_type": "execute_result"
    }
   ],
   "source": [
    "linprog(-b[1:], A_ub=A[1:].T, b_ub=C_vec,\n",
    "        bounds=[(None, None)]*(m+n-1), method='Revised simplex')"
   ]
  },
  {
   "cell_type": "markdown",
   "metadata": {},
   "source": [
    "Not let's instead leave out the last constraint:"
   ]
  },
  {
   "cell_type": "code",
   "execution_count": 58,
   "metadata": {},
   "outputs": [
    {
     "data": {
      "text/plain": [
       "     con: array([], dtype=float64)\n",
       "     fun: -7225.0\n",
       " message: 'Optimization terminated successfully.'\n",
       "     nit: 11\n",
       "   slack: array([ 0.,  0.,  0.,  0., 15.,  0., 15.,  0., 15.,  0.,  0., 15., 35.,\n",
       "       15.,  0.])\n",
       "  status: 0\n",
       " success: True\n",
       "       x: array([ 5., 15., 25.,  5., 10.,  0., 15.])"
      ]
     },
     "execution_count": 58,
     "metadata": {},
     "output_type": "execute_result"
    }
   ],
   "source": [
    "linprog(-b[:-1], A_ub=A[:-1].T, b_ub=C_vec,\n",
    "        bounds=[(None, None)]*(m+n-1), method='Revised simplex')"
   ]
  },
  {
   "cell_type": "markdown",
   "metadata": {},
   "source": [
    "### Interpretation of dual problem\n",
    "\n",
    "By **strong duality**, we know that:\n",
    "\n",
    "$$\\sum_{i=1}^m \\sum_{j=1}^n c_{ij} x_{ij}  = \\sum_{i=1}^m p_i u_i + \\sum_{j=1}^n q_j v_j$$\n",
    "\n",
    "One unit more  capacity in factory $i$, i.e. $p_i$,   results in $u_i$ more transportation costs.\n",
    "\n",
    "Thus, $u_i$ describes the  cost of shipping one unit  **from** factory $i$. \n",
    "\n",
    "Call this  the ship-out cost of one unit  shipped from factory $i$.\n",
    "\n",
    "Similarly, $v_j$ is the  cost of shipping one unit **to** location $j$.\n",
    "\n",
    "Call this  the ship-in cost of one unit  to location $j$.\n",
    "\n",
    "Strong duality implies that  total transprotation costs  equals   total ship-out costs **plus**   total ship-in costs.\n",
    "\n",
    "It is reasonable that, for one unit of a product, ship-out cost $u_i$ **plus** ship-in cost $v_j$ should  equal transportation cost $c_{ij}$.\n",
    "\n",
    "This equality is assured by   **complementary slackness** conditions that state that whenever $x_{ij} > 0$, meaning that there are positive shipments  from factory $i$ to location $j$,    it must be true that  $u_i + v_j = c_{ij}$."
   ]
  }
 ],
 "metadata": {
  "date": 1603941884.2351744,
  "filename": "finite_markov.rst",
  "kernelspec": {
   "display_name": "Python 3",
   "language": "python",
   "name": "python3"
  },
  "language_info": {
   "codemirror_mode": {
    "name": "ipython",
    "version": 3
   },
   "file_extension": ".py",
   "mimetype": "text/x-python",
   "name": "python",
   "nbconvert_exporter": "python",
   "pygments_lexer": "ipython3",
   "version": "3.8.3"
  },
  "next_doc": {
   "link": "inventory_dynamics",
   "title": "Inventory Dynamics"
  },
  "prev_doc": {
   "link": "ar1_processes",
   "title": "AR1 Processes"
  },
  "title": "Finite Markov Chains"
 },
 "nbformat": 4,
 "nbformat_minor": 4
}
