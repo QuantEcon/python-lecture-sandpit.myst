{
 "cells": [
  {
   "cell_type": "markdown",
   "metadata": {},
   "source": [
    "# Competitive equilibrium with one-period Arrow securities"
   ]
  },
  {
   "cell_type": "markdown",
   "metadata": {},
   "source": [
    "This notebook is a laboratory for experimenting with instances of  a pure exchange economy with\n",
    "\n",
    "* Markov endowments\n",
    "\n",
    "* Complete markets in one period Arrow state-contingent securities\n",
    "\n",
    "* Discounted expected utility preferences  of a kind often specified in macro and finance\n",
    "\n",
    "* Common preferences across agents\n",
    "\n",
    "* Common beliefs across agents\n",
    "\n",
    "* A CRRA one-period utility function that implies the existence of a representative consumer whose consumption process can be plugged into a formula for the pricing kernel for  one-step Arrow securities and thereby determine equilbrium prices before determing an equilibrium distribution of wealth\n",
    "\n",
    "* Diverse endowments across agents that provide motivations for reallocating goods across time and Markov states\n",
    "\n",
    "We impose  enough restrictions to allow us to **Bellmanize** competitive equilibrium prices and quantities\n",
    "\n",
    "This lets us use  Bellman equations  to compute\n",
    "\n",
    "* asset prices \n",
    "\n",
    "* continuation wealths\n",
    "\n",
    "* state-by-state natural debt limits \n",
    "\n",
    "As usual, we start with Python imports"
   ]
  },
  {
   "cell_type": "code",
   "execution_count": 250,
   "metadata": {},
   "outputs": [],
   "source": [
    "import numpy as np\n",
    "import matplotlib.pyplot as plt\n",
    "%matplotlib inline"
   ]
  },
  {
   "cell_type": "code",
   "execution_count": 251,
   "metadata": {},
   "outputs": [],
   "source": [
    "np.set_printoptions(suppress=True)"
   ]
  },
  {
   "cell_type": "markdown",
   "metadata": {},
   "source": [
    "### Markov asset prices primer\n",
    "\n",
    "\n",
    "Let's start with a brief summary of formulas for computing asset prices in\n",
    "a Markov setting.\n",
    "\n",
    "The setup assumes the following infrastructure\n",
    "\n",
    "* Markov states: $s \\in S = \\left[\\bar{s}_1, \\ldots, \\bar{s}_n \\right]$ governed by  an $n$-state Markov chain with transition probability\n",
    "\n",
    "$$\n",
    "P_{ij} = \\Pr \\left\\{s_{t+1} = \\bar{s}_j \\mid s_t = \\bar{s}_i \\right\\}\n",
    "$$\n",
    "\n",
    "* A collection $k=1,\\ldots, I$ of  $n \\times 1$ vectors of  $K$ assets that pay off  $d^k\\left(s\\right)$  in state $s$\n",
    "\n",
    "\n",
    "\n",
    "* An $n \\times n$ matrix  pricing kernel $Q$ for one-period Arrow securities, where $ Q_{ij}$  = price at time $t$ in state $s_t \n",
    "\\bar s_i$ of one unit of consumption when $s_{t+1} = \\bar s_j$ at time $t+1$ \n",
    "\n",
    "At this point, we'll take the pricing kernel $Q$ as exogenous, i.e., determined outside the model\n",
    "\n",
    "Two examples would be\n",
    "\n",
    "* $ Q = \\beta P $ where $\\beta \\in (0,1) $\n",
    "\n",
    "* $Q = S P $ where $S$ is an $n \\times n$ matrix of *stochastic discount factors*\n",
    "\n",
    "\n",
    "We'll write down implications of  Markov asset pricing in a nutshell for two types of assets\n",
    "\n",
    "  * the price in Markov state $s$ at time $t$ of a **cum dividend** stock that entitles the owner at the beginning of time $t$ to the time $t$ dividend and the option to sell the asset at time $t+1$.  The price evidently satisfies $p^k(\\bar s_i) = d^k(\\bar s_i) + \\sum_j Q_{ij} p^k(\\bar s_j) $ which implies that the vector $p^k$ satisfies $p^k = d^k + Q p^k$ which implies the formula \n",
    "  \n",
    "$$\n",
    "p^k = (I - Q)^{-1} d^k\n",
    "$$\n",
    "\n",
    "\n",
    "* the price in Markov state $s$ at time $t$ of an **ex dividend** stock that entitles the owner at the end  of time $t$ to the time $t+1$ dividend and the option to sell the stock at time $t+1$. The  price is \n",
    "\n",
    "$$ \n",
    "p^k = (I - Q)^{-1} d^k\n",
    "$$\n",
    "\n",
    "\n",
    "Below, we describe an equilibrium model with trading of one-period Arrow securities in which the pricing kernel is endogenous.\n",
    "\n",
    "In constructing our model, we'll repeatedly encounter formulas that remind us of our asset pricing formulas.\n",
    "\n",
    "**Apology:** below we'll recycle notation by using $i$ both as a subscript of the Markov\n",
    "state $\\bar s_i$ and as the name of an individual consumer.  We hope that this does not cause undue confusion. \n",
    "\n"
   ]
  },
  {
   "cell_type": "markdown",
   "metadata": {},
   "source": [
    "## General equilibrium model (pure exchange)"
   ]
  },
  {
   "cell_type": "markdown",
   "metadata": {},
   "source": [
    "### Inputs\n",
    "\n",
    "* Markov states: $s \\in S = \\left[\\bar{s}_1, \\ldots, \\bar{s}_n \\right]$ governed by  an $n$-state Markov chain with transition probability\n",
    "\n",
    "$$\n",
    "P_{ij} = \\Pr \\left\\{s_{t+1} = \\bar{s}_j \\mid s_t = \\bar{s}_i \\right\\}\n",
    "$$\n",
    "\n",
    "* A collection of  $n \\times 1$ vectors of individual $i$ endowments: $y^i\\left(s\\right), i=1,\\ldots, I$\n",
    "\n",
    "* An $n \\times 1$ vector of aggregate endowment:  $y\\left(s\\right) \\equiv \\sum_{i=1}^I y^i\\left(s\\right)$\n",
    "\n",
    "* A collection of  $n \\times 1$ vectors of individual $i$ consumptions: $c^i\\left(s\\right), i=1,\\ldots, I$\n",
    "\n",
    "* A collection of restrictions  on feasible consumption allocations for $s \\in S$:\n",
    "\n",
    "$$\n",
    "c\\left(s\\right)= \\sum_{i=1}^I c^i\\left(s\\right) \n",
    "\\leq  y\\left(s\\right) \n",
    "$$\n",
    "\n",
    "* Preferences: a common utility functional across agents $ E_0 \\sum_{t=0}^\\infty \\beta^t u(c^i_t) $ with  CRRA one-period utility function $u\\left(c\\right)$ and discount factor $\\beta \\in (0,1)$\n",
    "\n",
    "\n",
    "### Outputs\n",
    "\n",
    "* An $n \\times n$ matrix  pricing kernel $Q$ for one-period Arrow securities, where $ Q_{ij}$  = price at time $t$ in state $s_t \n",
    "\\bar s_i$ of one unit of consumption when $s_{t+1} = \\bar s_j$ at time $t+1$ \n",
    "\n",
    "*  pure exchange so that $c\\left(s\\right) = y\\left(s\\right)$\n",
    "\n",
    "* an $I \\times 1$ vector distribution of wealth vector $\\alpha$, $\\alpha_i \\geq 0, \\sum_{i=1}^I \\alpha_i =1$\n",
    "\n",
    "* A collection of $n \\times 1$ vectors of individual $i$ consumptions: $c^i\\left(s\\right), i=1,\\ldots, I$\n"
   ]
  },
  {
   "cell_type": "markdown",
   "metadata": {},
   "source": [
    "The one-period utility function is \n",
    "\n",
    "$$\n",
    "u \\left(c\\right) = \\frac{c^{1-\\gamma}}{1-\\gamma}\n",
    "$$\n",
    "\n",
    "so that\n",
    "\n",
    "$$\n",
    "u^\\prime \\left(c\\right) = c^{-\\gamma}\n",
    "$$"
   ]
  },
  {
   "cell_type": "markdown",
   "metadata": {},
   "source": [
    "#### Matrix $Q$ to represent pricing kernel\n",
    "\n",
    "\n",
    "For any agent  $k \\in \\left[1, \\ldots, I\\right]$, at the equilibrium allocation,\n",
    "the one-period Arrow securities pricing kernel satisfies\n",
    "\n",
    "$$\n",
    "Q_{ij} = \\beta \\left(\\frac{c^k\\left(\\bar{s}_j\\right)}{c^k\\left(\\bar{s}_i\\right)}\\right)^{-\\gamma} P_{ij}\n",
    "$$\n",
    "where $Q$ is an $n \\times n$ matrix\n",
    "\n",
    "\n",
    "This follows from agent $k$'s first-order necessary conditions.\n",
    "\n",
    "But with the CRRA preferences that we have assumed, individual consumptions vary proportionately\n",
    "with aggregate consumption and therefore with the aggregate endowment.\n",
    "\n",
    "  * This is a consequence of our preference specification implying that **Engle curves** affine in wealth and therefore  satisfy conditions for **Gorman aggregation**\n",
    "\n",
    "Thus, \n",
    "\n",
    "$$\n",
    "c^i \\left(s\\right) = \\alpha_i c\\left(s\\right) = \\alpha_i y\\left(s\\right)\n",
    "$$\n",
    "\n",
    "for an arbitrary   **distribution of wealth**  in the form of an   $I \\times 1$ vector $\\alpha$ \n",
    "that satisfies\n",
    "\n",
    "$$ \\alpha_i \\in \\left(0, 1\\right), \\quad \\sum_{i=1}^I \\alpha_i = 1 $$\n"
   ]
  },
  {
   "cell_type": "markdown",
   "metadata": {},
   "source": [
    "This means that we can compute the pricing kernel from  \n",
    "\n",
    "$$\n",
    "Q_{ij} = \\beta \\left(\\frac{y_j}{y_i}\\right)^{-\\gamma} P_{ij}\n",
    "$$\n",
    "\n",
    "\n",
    "Note that $Q_{ij}$ is independent of vector $\\alpha$.\n",
    "\n",
    "Thus, we have the\n",
    "\n",
    "**Key finding:** We can compute competitive equilibrium prices prior to computing the distribution of wealth.\n"
   ]
  },
  {
   "cell_type": "markdown",
   "metadata": {},
   "source": [
    "### Values \n",
    "\n",
    "\n",
    "Having computed an equilibrium pricing kernel $Q$, we can compute several **values** that are required\n",
    "to pose or represent the solution of an individual household's optimum problem. \n",
    "\n",
    "\n",
    "We denote  an $I \\times 1$ vector of  state-dependent values of agents' endowments in Markov state $s$ as\n",
    "\n",
    "$$\n",
    "A\\left(s\\right)=\\left[\\begin{array}{c}\n",
    "A^{1}\\left(s\\right)\\\\\n",
    " \\vdots\\\\\n",
    "A^{I}\\left(s\\right)\n",
    "\\end{array}\\right], \\quad s \\in \\left[\\bar{s}_1, \\ldots, \\bar{s}_n\\right]\n",
    "$$\n",
    "\n",
    "and an  $n \\times 1$ vector of continuation endowment values for each individual $i$ as\n",
    "\n",
    "$$\n",
    "A^{i}=\\left[\\begin{array}{c}\n",
    "A^{i}\\left(\\bar{s}_{1}\\right)\\\\\n",
    "\\vdots\\\\\n",
    "A^{i}\\left(\\bar{s}_{n}\\right)\n",
    "\\end{array}\\right], \\quad i \\in \\left[1, \\ldots, I\\right]\n",
    "$$\n",
    "\n",
    "  $A^i$ of consumer $i$ satisfies\n",
    "\n",
    "$$\n",
    "A^i = \\left[I - Q\\right]^{-1} \\left[ y^i\\right]\n",
    "$$\n",
    "\n",
    "where\n",
    "\n",
    "$$\n",
    "y^{i}=\\left[\\begin{array}{c}\n",
    "y^{i}\\left(\\bar{s}_{1}\\right)\\\\\n",
    "\\vdots\\\\\n",
    "y^{i}\\left(\\bar{s}_{n}\\right)\n",
    "\\end{array}\\right]\n",
    "$$\n",
    "\n",
    "\n",
    "In a competitive equilibrium with sequential trading of one-period Arrow securities, \n",
    "$A^i(s)$ serves as a state-by-state vector of **debt limits** on the quantities of one-period  Arrow securities\n",
    "paying off  in state $s$ at time $t+1$ that individual $i$ can issue at time $t$.  \n",
    "\n",
    "\n",
    "These are often called **natural debt limits**.\n",
    "\n",
    "Evidently, they equal the maximum amount that it is feasible for  individual $i$ to repay\n",
    "even if he consumes zero goods forevermore. "
   ]
  },
  {
   "cell_type": "markdown",
   "metadata": {},
   "source": [
    "### Continuation wealths\n",
    "\n",
    "Continuation wealths play an important role in Bellmanizing a competitive equilibrium with sequential\n",
    "trading of a complete set of one-period Arrow securities.\n",
    "\n",
    "\n",
    "We denote  an $I \\times 1$ vector of  state-dependent continuation wealths in Markov state $s$ as\n",
    "\n",
    "$$\n",
    "\\psi\\left(s\\right)=\\left[\\begin{array}{c}\n",
    "\\psi^{1}\\left(s\\right)\\\\\n",
    "\\vdots\\\\\n",
    "\\psi^{I}\\left(s\\right)\n",
    "\\end{array}\\right], \\quad s \\in \\left[\\bar{s}_1, \\ldots, \\bar{s}_n\\right]\n",
    "$$\n",
    "\n",
    "and an  $n \\times 1$ vector of continuation wealths for each individual $i$ as\n",
    "\n",
    "$$\n",
    "\\psi^{i}=\\left[\\begin{array}{c}\n",
    "\\psi^{i}\\left(\\bar{s}_{1}\\right)\\\\\n",
    "\\vdots\\\\\n",
    "\\psi^{i}\\left(\\bar{s}_{n}\\right)\n",
    "\\end{array}\\right], \\quad i \\in \\left[1, \\ldots, I\\right]\n",
    "$$"
   ]
  },
  {
   "cell_type": "markdown",
   "metadata": {},
   "source": [
    "Continuation wealth  $\\psi^i$ of consumer $i$ satisfies\n",
    "\n",
    "$$\n",
    "\\psi^i = \\left[I - Q\\right]^{-1} \\left[\\alpha^i y - y^i\\right]\n",
    "$$\n",
    "\n",
    "where\n",
    "\n",
    "$$\n",
    "y^{i}=\\left[\\begin{array}{c}\n",
    "y^{i}\\left(\\bar{s}_{1}\\right)\\\\\n",
    "\\vdots\\\\\n",
    "y^{i}\\left(\\bar{s}_{n}\\right)\n",
    "\\end{array}\\right],\\quad y=\\left[\\begin{array}{c}\n",
    "y\\left(\\bar{s}_{1}\\right)\\\\\n",
    "\\vdots\\\\\n",
    "y\\left(\\bar{s}_{n}\\right)\n",
    "\\end{array}\\right]\n",
    "$$\n",
    "\n",
    "Note that $\\sum_{i=1}^I \\psi^i = \\boldsymbol{0}_{n \\times 1}$.\n",
    "\n",
    "**Remark:** At the initial state $s_0 \\in \\begin{bmatrix} \\bar s_1, \\ldots, \\bar s_n \\end{bmatrix}$.\n",
    "the continuation wealth $\\psi^i(s_0) = 0$ for all agents $i = 1, \\ldots, I$.  This indicates that\n",
    "the economy begins with  all agents being debt-free and financial-asset-free at time $0$, state $s_0$.  \n",
    "\n",
    "\n",
    "**Remark:** Note that all agents' continuation wealths recurrently return to zero when the Markov state returns to whatever value $s_0$ it had at time $0$.\n"
   ]
  },
  {
   "cell_type": "markdown",
   "metadata": {},
   "source": [
    "### Optimal portfolios\n",
    "\n",
    "A nifty feature of the model is that optimal portfolios for a type $i$ agent equal\n",
    "the continuation wealths that we have just computed.\n",
    "\n",
    "Thus, agent $i$'s state-by-state purchases of Arrow securities next period depend only on next period's\n",
    "Markov state and equal\n",
    "\n",
    "$$ a^i(s) = \\psi^i(s), s \\in \\left[\\bar s_1, \\ldots, \\bar s_n \\right] $$\n",
    "\n"
   ]
  },
  {
   "cell_type": "markdown",
   "metadata": {},
   "source": [
    "### Equilibrium wealth distribution $\\alpha$\n",
    "\n",
    "\n",
    "With the initial state being  a particular state $s_0 \\in \\left[\\bar{s}_1, \\ldots, \\bar{s}_n\\right]$, we must have\n",
    "\n",
    "$$\n",
    "\\psi^i\\left(s_0\\right) = 0, \\quad i=1, \\ldots, I\n",
    "$$\n",
    "\n",
    "which means the equilibrium distribution of wealth satisfies\n",
    "\n",
    "$$\n",
    "\\alpha^i = \\frac{V_k y^i}{V_k y}\n",
    "$$\n",
    "\n",
    "where $V \\equiv \\left[I - Q\\right]^{-1}$ and $k$ is the row index corresponding to the initial state $s_0$. \n",
    "\n",
    "Since $\\sum_i V_k y^i = V_k y$,  $\\sum_i \\alpha^i = 1$."
   ]
  },
  {
   "cell_type": "markdown",
   "metadata": {},
   "source": [
    "Below we solve several fun examples with Python code.\n",
    "\n",
    "First, we create a Python class to compute  the objects that comprise a competitive equilibrium\n",
    "with sequential trading of one-period Arrow securities."
   ]
  },
  {
   "cell_type": "code",
   "execution_count": 252,
   "metadata": {},
   "outputs": [],
   "source": [
    "class RecurCompetitive:\n",
    "    \"\"\"\n",
    "    A class that represents a recursive competitive economy\n",
    "    with one-period Arrow securities.\n",
    "    \"\"\"\n",
    "\n",
    "    def __init__(self,\n",
    "                 s,        # state vector\n",
    "                 P,        # transition matrix\n",
    "                 ys,       # endowments ys = [y1, y2, .., yI]\n",
    "                 γ=0.5,    # risk aversion\n",
    "                 β=0.98):  # discount rate\n",
    "\n",
    "        # preference parameters\n",
    "        self.γ = γ\n",
    "        self.β = β\n",
    "\n",
    "        # variables dependent on state\n",
    "        self.s = s\n",
    "        self.P = P\n",
    "        self.ys = ys\n",
    "        self.y = np.sum(ys, 1)\n",
    "\n",
    "        # dimensions\n",
    "        self.n, self.I = ys.shape\n",
    "\n",
    "        # compute pricing kernel\n",
    "        self.Q = self.pricing_kernel()\n",
    "        \n",
    "        # compute risk-free rate\n",
    "        self.R = self.risk_free_rate()\n",
    "\n",
    "        # V = [I - Q]^{-1}\n",
    "        self.V = np.linalg.inv(np.eye(n) - self.Q)\n",
    "\n",
    "        # natural debt limit\n",
    "        self.A = self.V @ ys\n",
    "\n",
    "    def u_prime(self, c):\n",
    "        \"The first derivative of CRRA utility\"\n",
    "\n",
    "        return c ** (-self.γ)\n",
    "\n",
    "    def pricing_kernel(self):\n",
    "        \"Compute the pricing kernel matrix Q\"\n",
    "\n",
    "        c = self.y\n",
    "\n",
    "        n = self.n\n",
    "        Q = np.empty((n, n))\n",
    "\n",
    "        for i in range(n):\n",
    "            for j in range(n):\n",
    "                ratio = self.u_prime(c[j]) / self.u_prime(c[i])\n",
    "                Q[i, j] = self.β * ratio * P[i, j]\n",
    "\n",
    "        self.Q = Q\n",
    "\n",
    "        return Q\n",
    "\n",
    "    def wealth_distribution(self, s0_idx):\n",
    "        \"Solve for wealth distribution α\"\n",
    "\n",
    "        # set initial state\n",
    "        self.s0_idx = s0_idx\n",
    "\n",
    "        # simplify notations\n",
    "        n = self.n\n",
    "        Q = self.Q\n",
    "        y, ys = self.y, self.ys\n",
    "\n",
    "        # row of V corresponding to s0\n",
    "        Vs0 = self.V[s0_idx, :]\n",
    "        α = Vs0 @ self.ys / (Vs0 @ self.y)\n",
    "\n",
    "        self.α = α\n",
    "\n",
    "        return α\n",
    "\n",
    "    def continuation_wealths(self):\n",
    "        \"Given α, compute the continuation wealths ψ\"\n",
    "\n",
    "        diff = np.empty((n, I))\n",
    "        for i in range(I):\n",
    "            diff[:, i] = self.α[i] * self.y - self.ys[:, i]\n",
    "\n",
    "        ψ = self.V @ diff\n",
    "        self.ψ = ψ\n",
    "\n",
    "        return ψ\n",
    "    \n",
    "    def risk_free_rate(self):\n",
    "        \"Given Q, compute one-period gross risk-free interest rate R\"\n",
    "        R = np.empty((n,n))\n",
    "        R = np.sum(self.Q, axis = 0) \n",
    "        self.R = R\n",
    "        \n",
    "        return R\n",
    "    \n",
    "    "
   ]
  },
  {
   "cell_type": "markdown",
   "metadata": {},
   "source": [
    "### Example 1\n",
    "\n",
    "Please read the preceding class for default parameter values and the  following Python code for the fundamentals of the economy.  \n",
    "\n",
    "Here goes."
   ]
  },
  {
   "cell_type": "code",
   "execution_count": 253,
   "metadata": {},
   "outputs": [],
   "source": [
    "# dimensions\n",
    "I, n = 2, 2\n",
    "\n",
    "# states\n",
    "s = np.array([0, 1])\n",
    "\n",
    "# transition\n",
    "P = np.array([[.5, .5], [.5, .5]])\n",
    "\n",
    "# endowments\n",
    "ys = np.empty((n, I))\n",
    "ys[:, 0] = 1 - s       # y1\n",
    "ys[:, 1] = s           # y2"
   ]
  },
  {
   "cell_type": "code",
   "execution_count": 254,
   "metadata": {},
   "outputs": [],
   "source": [
    "ex1 = RecurCompetitive(s, P, ys)"
   ]
  },
  {
   "cell_type": "code",
   "execution_count": 255,
   "metadata": {},
   "outputs": [
    {
     "data": {
      "text/plain": [
       "array([[1., 0.],\n",
       "       [0., 1.]])"
      ]
     },
     "execution_count": 255,
     "metadata": {},
     "output_type": "execute_result"
    }
   ],
   "source": [
    "# endowments\n",
    "ex1.ys"
   ]
  },
  {
   "cell_type": "code",
   "execution_count": 256,
   "metadata": {},
   "outputs": [
    {
     "data": {
      "text/plain": [
       "array([[0.49, 0.49],\n",
       "       [0.49, 0.49]])"
      ]
     },
     "execution_count": 256,
     "metadata": {},
     "output_type": "execute_result"
    }
   ],
   "source": [
    "# pricing kernal\n",
    "ex1.Q"
   ]
  },
  {
   "cell_type": "code",
   "execution_count": 257,
   "metadata": {},
   "outputs": [
    {
     "data": {
      "text/plain": [
       "array([0.98, 0.98])"
      ]
     },
     "execution_count": 257,
     "metadata": {},
     "output_type": "execute_result"
    }
   ],
   "source": [
    "# Risk free rate R\n",
    "ex1.R"
   ]
  },
  {
   "cell_type": "code",
   "execution_count": 258,
   "metadata": {},
   "outputs": [
    {
     "data": {
      "text/plain": [
       "array([[25.5, 24.5],\n",
       "       [24.5, 25.5]])"
      ]
     },
     "execution_count": 258,
     "metadata": {},
     "output_type": "execute_result"
    }
   ],
   "source": [
    "# natural debt limit, A = [A1, A2, ..., AI]\n",
    "ex1.A"
   ]
  },
  {
   "cell_type": "code",
   "execution_count": 259,
   "metadata": {},
   "outputs": [
    {
     "name": "stdout",
     "output_type": "stream",
     "text": [
      "α = [0.51 0.49]\n",
      "ψ = [[ 0.  0.]\n",
      " [ 1. -1.]]\n"
     ]
    }
   ],
   "source": [
    "# when the initial state is state 1\n",
    "print(f'α = {ex1.wealth_distribution(s0_idx=0)}')\n",
    "print(f'ψ = {ex1.continuation_wealths()}')"
   ]
  },
  {
   "cell_type": "code",
   "execution_count": 260,
   "metadata": {},
   "outputs": [
    {
     "name": "stdout",
     "output_type": "stream",
     "text": [
      "α = [0.49 0.51]\n",
      "ψ = [[-1.  1.]\n",
      " [ 0. -0.]]\n"
     ]
    }
   ],
   "source": [
    "# when the initial state is state 2\n",
    "print(f'α = {ex1.wealth_distribution(s0_idx=1)}')\n",
    "print(f'ψ = {ex1.continuation_wealths()}')"
   ]
  },
  {
   "cell_type": "markdown",
   "metadata": {},
   "source": [
    "### Example 2"
   ]
  },
  {
   "cell_type": "code",
   "execution_count": 261,
   "metadata": {},
   "outputs": [],
   "source": [
    "# dimensions\n",
    "I, n = 2, 2\n",
    "\n",
    "# states\n",
    "s = np.array([1, 2])\n",
    "\n",
    "# transition\n",
    "P = np.array([[.5, .5], [.5, .5]])\n",
    "\n",
    "# endowments\n",
    "ys = np.empty((n, I))\n",
    "ys[:, 0] = 1.5         # y1\n",
    "ys[:, 1] = s           # y2"
   ]
  },
  {
   "cell_type": "code",
   "execution_count": 262,
   "metadata": {},
   "outputs": [],
   "source": [
    "ex2 = RecurCompetitive(s, P, ys)"
   ]
  },
  {
   "cell_type": "code",
   "execution_count": 263,
   "metadata": {},
   "outputs": [
    {
     "name": "stdout",
     "output_type": "stream",
     "text": [
      "ys =  [[1.5 1. ]\n",
      " [1.5 2. ]]\n",
      "Q =  [[0.49       0.41412558]\n",
      " [0.57977582 0.49      ]]\n",
      "R =  [1.06977582 0.90412558]\n"
     ]
    }
   ],
   "source": [
    "# endowments\n",
    "\n",
    "print(\"ys = \", ex2.ys)\n",
    "\n",
    "# pricing kernal\n",
    "print (\"Q = \", ex2.Q)\n",
    "\n",
    "# Risk free rate R\n",
    "print(\"R = \", ex2.R)"
   ]
  },
  {
   "cell_type": "code",
   "execution_count": 264,
   "metadata": {},
   "outputs": [
    {
     "data": {
      "text/plain": [
       "array([[0.49      , 0.41412558],\n",
       "       [0.57977582, 0.49      ]])"
      ]
     },
     "execution_count": 264,
     "metadata": {},
     "output_type": "execute_result"
    }
   ],
   "source": [
    "# pricing kernal\n",
    "ex2.Q"
   ]
  },
  {
   "cell_type": "code",
   "execution_count": 265,
   "metadata": {},
   "outputs": [
    {
     "data": {
      "text/plain": [
       "array([1.06977582, 0.90412558])"
      ]
     },
     "execution_count": 265,
     "metadata": {},
     "output_type": "execute_result"
    }
   ],
   "source": [
    "# Risk free rate R\n",
    "ex2.R"
   ]
  },
  {
   "cell_type": "code",
   "execution_count": 266,
   "metadata": {},
   "outputs": [
    {
     "data": {
      "text/plain": [
       "array([[69.30941886, 66.91255848],\n",
       "       [81.73318641, 79.98879094]])"
      ]
     },
     "execution_count": 266,
     "metadata": {},
     "output_type": "execute_result"
    }
   ],
   "source": [
    "# natural debt limit, A = [A1, A2, ..., AI]\n",
    "ex2.A"
   ]
  },
  {
   "cell_type": "code",
   "execution_count": 267,
   "metadata": {},
   "outputs": [
    {
     "name": "stdout",
     "output_type": "stream",
     "text": [
      "α = [0.50879763 0.49120237]\n",
      "ψ = [[-0.         -0.        ]\n",
      " [ 0.55057195 -0.55057195]]\n"
     ]
    }
   ],
   "source": [
    "# when the initial state is state 1\n",
    "print(f'α = {ex2.wealth_distribution(s0_idx=0)}')\n",
    "print(f'ψ = {ex2.continuation_wealths()}')"
   ]
  },
  {
   "cell_type": "code",
   "execution_count": 268,
   "metadata": {},
   "outputs": [
    {
     "name": "stdout",
     "output_type": "stream",
     "text": [
      "α = [0.50539319 0.49460681]\n",
      "ψ = [[-0.46375886  0.46375886]\n",
      " [ 0.         -0.        ]]\n"
     ]
    }
   ],
   "source": [
    "# when the initial state is state 1\n",
    "print(f'α = {ex2.wealth_distribution(s0_idx=1)}')\n",
    "print(f'ψ = {ex2.continuation_wealths()}')"
   ]
  },
  {
   "cell_type": "markdown",
   "metadata": {},
   "source": [
    "### Example 3"
   ]
  },
  {
   "cell_type": "code",
   "execution_count": 269,
   "metadata": {},
   "outputs": [],
   "source": [
    "# dimensions\n",
    "I, n = 2, 2\n",
    "\n",
    "# states\n",
    "s = np.array([1, 2])\n",
    "\n",
    "# transition\n",
    "λ = 0.9\n",
    "P = np.array([[1-λ, λ], [0, 1]])\n",
    "\n",
    "# endowments\n",
    "ys = np.empty((n, I))\n",
    "ys[:, 0] = [1, 0]         # y1\n",
    "ys[:, 1] = [0, 1]         # y2"
   ]
  },
  {
   "cell_type": "code",
   "execution_count": 270,
   "metadata": {},
   "outputs": [],
   "source": [
    "ex3 = RecurCompetitive(s, P, ys)"
   ]
  },
  {
   "cell_type": "code",
   "execution_count": 271,
   "metadata": {},
   "outputs": [
    {
     "name": "stdout",
     "output_type": "stream",
     "text": [
      "ys =  [[1. 0.]\n",
      " [0. 1.]]\n",
      "Q =  [[0.098 0.882]\n",
      " [0.    0.98 ]]\n",
      "R =  [0.098 1.862]\n"
     ]
    }
   ],
   "source": [
    "# endowments\n",
    "\n",
    "print(\"ys = \", ex3.ys)\n",
    "\n",
    "# pricing kernel\n",
    "print (\"Q = \", ex3.Q)\n",
    "\n",
    "# Risk free rate R\n",
    "print(\"R = \", ex3.R)"
   ]
  },
  {
   "cell_type": "code",
   "execution_count": 272,
   "metadata": {},
   "outputs": [
    {
     "data": {
      "text/plain": [
       "array([[0.098, 0.882],\n",
       "       [0.   , 0.98 ]])"
      ]
     },
     "execution_count": 272,
     "metadata": {},
     "output_type": "execute_result"
    }
   ],
   "source": [
    "# pricing kernel\n",
    "ex3.Q"
   ]
  },
  {
   "cell_type": "code",
   "execution_count": 273,
   "metadata": {},
   "outputs": [
    {
     "data": {
      "text/plain": [
       "array([[ 1.10864745, 48.89135255],\n",
       "       [ 0.        , 50.        ]])"
      ]
     },
     "execution_count": 273,
     "metadata": {},
     "output_type": "execute_result"
    }
   ],
   "source": [
    "# natural debt limit, A = [A1, A2, ..., AI]\n",
    "ex3.A"
   ]
  },
  {
   "cell_type": "markdown",
   "metadata": {},
   "source": [
    "Note that the natural debt limit for agent $1$ in state $2$ is $0$."
   ]
  },
  {
   "cell_type": "code",
   "execution_count": 274,
   "metadata": {},
   "outputs": [
    {
     "name": "stdout",
     "output_type": "stream",
     "text": [
      "α = [0.02217295 0.97782705]\n",
      "ψ = [[ 0.         -0.        ]\n",
      " [ 1.10864745 -1.10864745]]\n"
     ]
    }
   ],
   "source": [
    "# when the initial state is state 1\n",
    "print(f'α = {ex3.wealth_distribution(s0_idx=0)}')\n",
    "print(f'ψ = {ex3.continuation_wealths()}')"
   ]
  },
  {
   "cell_type": "code",
   "execution_count": 275,
   "metadata": {},
   "outputs": [
    {
     "name": "stdout",
     "output_type": "stream",
     "text": [
      "α = [0. 1.]\n",
      "ψ = [[-1.10864745  1.10864745]\n",
      " [ 0.          0.        ]]\n"
     ]
    }
   ],
   "source": [
    "# when the initial state is state 1\n",
    "print(f'α = {ex3.wealth_distribution(s0_idx=1)}')\n",
    "print(f'ψ = {ex3.continuation_wealths()}')"
   ]
  },
  {
   "cell_type": "markdown",
   "metadata": {},
   "source": [
    "For the specification of the Markov chain in example 3, let's take a look at how the equilibrium allocation changes as a function of transition probability $\\lambda$."
   ]
  },
  {
   "cell_type": "code",
   "execution_count": 276,
   "metadata": {},
   "outputs": [],
   "source": [
    "λ_seq = np.linspace(0, 1, 100)\n",
    "\n",
    "# prepare containers\n",
    "αs0_seq = np.empty((len(λ_seq), 2))\n",
    "αs1_seq = np.empty((len(λ_seq), 2))\n",
    "\n",
    "for i, λ in enumerate(λ_seq):\n",
    "    P = np.array([[1-λ, λ], [0, 1]])\n",
    "    ex3 = RecurCompetitive(s, P, ys)\n",
    "\n",
    "    # initial state s0 = 1\n",
    "    α = ex3.wealth_distribution(s0_idx=0)\n",
    "    αs0_seq[i, :] = α\n",
    "\n",
    "    # initial state s0 = 2\n",
    "    α = ex3.wealth_distribution(s0_idx=1)\n",
    "    αs1_seq[i, :] = α"
   ]
  },
  {
   "cell_type": "code",
   "execution_count": 277,
   "metadata": {},
   "outputs": [
    {
     "data": {
      "image/png": "[encoded data removed]",
      "text/plain": [
       "<Figure size 864x288 with 2 Axes>"
      ]
     },
     "metadata": {
      "needs_background": "light"
     },
     "output_type": "display_data"
    }
   ],
   "source": [
    "fig, axs = plt.subplots(1, 2, figsize=(12, 4))\n",
    "\n",
    "for i, αs_seq in enumerate([αs0_seq, αs1_seq]):\n",
    "    for j in range(2):\n",
    "        axs[i].plot(λ_seq, αs_seq[:, j], label=f'α{j+1}')\n",
    "        axs[i].set_xlabel('λ')\n",
    "        axs[i].set_title(f'initial state s0 = {s[i]}')\n",
    "        axs[i].legend()\n",
    "\n",
    "plt.show()"
   ]
  },
  {
   "cell_type": "markdown",
   "metadata": {},
   "source": [
    "## Example 4"
   ]
  },
  {
   "cell_type": "code",
   "execution_count": 278,
   "metadata": {},
   "outputs": [],
   "source": [
    "# dimensions\n",
    "I, n = 2, 3\n",
    "\n",
    "# states\n",
    "s = np.array([1, 2, 3])\n",
    "\n",
    "# transition\n",
    "λ = 0.9\n",
    "μ = .9\n",
    "δ = .05\n",
    "\n",
    "P = np.array([[1-λ, λ, 0], [μ/2, μ, μ/2], [δ/2, δ/2, δ]])\n",
    "\n",
    "# endowments\n",
    "ys = np.empty((n, I))\n",
    "ys[:, 0] = .25, .75, .2       # y1\n",
    "ys[:, 1] = 1.25, .25, .2           # y2\n"
   ]
  },
  {
   "cell_type": "code",
   "execution_count": 279,
   "metadata": {},
   "outputs": [],
   "source": [
    "ex4 = RecurCompetitive(s, P, ys)"
   ]
  },
  {
   "cell_type": "code",
   "execution_count": 280,
   "metadata": {},
   "outputs": [
    {
     "name": "stdout",
     "output_type": "stream",
     "text": [
      "ys =  [[0.25 1.25]\n",
      " [0.75 0.25]\n",
      " [0.2  0.2 ]]\n",
      "Q =  [[0.098      1.08022498 0.        ]\n",
      " [0.36007499 0.882      0.69728222]\n",
      " [0.01265175 0.01549516 0.049     ]]\n",
      "R =  [0.47072674 1.97772014 0.74628222]\n",
      "when the initial state is state 1\n",
      "α = [0.63920196 0.36079804]\n",
      "ψ = [[-0.          0.        ]\n",
      " [-0.65616233  0.65616233]\n",
      " [ 0.04785851 -0.04785851]]\n",
      "when the initial state is state 2\n",
      "α = [0.52372722 0.47627278]\n",
      "ψ = [[ 0.5937814  -0.5937814 ]\n",
      " [ 0.          0.        ]\n",
      " [ 0.01787935 -0.01787935]]\n",
      "when the initial state is state 3\n",
      "α = [0.45485896 0.54514104]\n",
      "ψ = [[ 0.94790813 -0.94790813]\n",
      " [ 0.39133024 -0.39133024]\n",
      " [-0.         -0.        ]]\n"
     ]
    }
   ],
   "source": [
    "# endowments\n",
    "\n",
    "print(\"ys = \", ex4.ys)\n",
    "\n",
    "# pricing kernal\n",
    "print (\"Q = \", ex4.Q)\n",
    "\n",
    "# Risk free rate R\n",
    "print(\"R = \", ex4.R)\n",
    "ex4.R\n",
    "\n",
    "# natural debt limit, A = [A1, A2, ..., AI]\n",
    "ex4.A\n",
    "\n",
    "# when the initial state is state 1\n",
    "print(\"when the initial state is state 1\")\n",
    "print(f'α = {ex4.wealth_distribution(s0_idx=0)}')\n",
    "print(f'ψ = {ex4.continuation_wealths()}')\n",
    "\n",
    "# when the initial state is state 2\n",
    "print(\"when the initial state is state 2\")\n",
    "print(f'α = {ex4.wealth_distribution(s0_idx=1)}')\n",
    "print(f'ψ = {ex4.continuation_wealths()}')\n",
    "\n",
    "# when the initial state is state 3\n",
    "print(\"when the initial state is state 3\")\n",
    "print(f'α = {ex4.wealth_distribution(s0_idx=2)}')\n",
    "print(f'ψ = {ex4.continuation_wealths()}')\n"
   ]
  }
 ],
 "metadata": {
  "kernelspec": {
   "display_name": "Python 3",
   "language": "python",
   "name": "python3"
  },
  "language_info": {
   "codemirror_mode": {
    "name": "ipython",
    "version": 3
   },
   "file_extension": ".py",
   "mimetype": "text/x-python",
   "name": "python",
   "nbconvert_exporter": "python",
   "pygments_lexer": "ipython3",
   "version": "3.7.7"
  }
 },
 "nbformat": 4,
 "nbformat_minor": 4
}
